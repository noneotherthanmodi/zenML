{
  "nbformat": 4,
  "nbformat_minor": 0,
  "metadata": {
    "colab": {
      "provenance": [],
      "authorship_tag": "ABX9TyMfOva4LaC4VQGRl/yf8/ZR",
      "include_colab_link": true
    },
    "kernelspec": {
      "name": "python3",
      "display_name": "Python 3"
    },
    "language_info": {
      "name": "python"
    }
  },
  "cells": [
    {
      "cell_type": "markdown",
      "metadata": {
        "id": "view-in-github",
        "colab_type": "text"
      },
      "source": [
        "<a href=\"https://colab.research.google.com/github/noneotherthanmodi/zenML/blob/main/zenML.ipynb\" target=\"_parent\"><img src=\"https://colab.research.google.com/assets/colab-badge.svg\" alt=\"Open In Colab\"/></a>"
      ]
    },
    {
      "cell_type": "code",
      "execution_count": null,
      "metadata": {
        "id": "48IVb_yd-VgB"
      },
      "outputs": [],
      "source": [
        "!pip install zenml"
      ]
    },
    {
      "cell_type": "code",
      "source": [
        "import zenml"
      ],
      "metadata": {
        "colab": {
          "base_uri": "https://localhost:8080/"
        },
        "id": "SeE5KAy--ZND",
        "outputId": "e3dda4c0-2856-4a73-b6fb-c75370c3d6bc"
      },
      "execution_count": 5,
      "outputs": [
        {
          "output_type": "stream",
          "name": "stderr",
          "text": [
            "INFO:numexpr.utils:NumExpr defaulting to 2 threads.\n"
          ]
        },
        {
          "output_type": "stream",
          "name": "stdout",
          "text": [
            "\u001b[1;35mNumExpr defaulting to 2 threads.\u001b[0m\n"
          ]
        }
      ]
    },
    {
      "cell_type": "code",
      "source": [
        "from zenml import pipeline"
      ],
      "metadata": {
        "id": "ti8uF0eb-yVr"
      },
      "execution_count": 6,
      "outputs": []
    },
    {
      "cell_type": "code",
      "source": [
        "%pip install \"zenml[server]\""
      ],
      "metadata": {
        "id": "9nQcWxnw-1o4"
      },
      "execution_count": null,
      "outputs": []
    },
    {
      "cell_type": "code",
      "source": [
        "!zenml integration install sklearn -y\n",
        "%pip install pyparsing==2.4.2\n"
      ],
      "metadata": {
        "id": "3hxNGvBk_jxE"
      },
      "execution_count": null,
      "outputs": []
    },
    {
      "cell_type": "code",
      "source": [
        "import IPython"
      ],
      "metadata": {
        "id": "SlYubZ7d_6yV"
      },
      "execution_count": 9,
      "outputs": []
    },
    {
      "cell_type": "code",
      "source": [
        "NGROK_TOKEN = '2bgFaBvfC0ozZ1EFWKe0gLSIZzi_rv3bxPpgubEKvxQcXiiT'"
      ],
      "metadata": {
        "id": "HvWCIj-MACFT"
      },
      "execution_count": 10,
      "outputs": []
    },
    {
      "cell_type": "code",
      "source": [
        "from zenml.environment import Environment\n",
        "if Environment.in_google_colab():\n",
        "  !pip install pyngrok\n",
        "  !ngrok authtoken {NGROK_TOKEN}"
      ],
      "metadata": {
        "id": "FGSZqqzmBFV1"
      },
      "execution_count": null,
      "outputs": []
    },
    {
      "cell_type": "code",
      "source": [
        "!rm rf .zen\n",
        "!zenml init"
      ],
      "metadata": {
        "id": "jfAI97SsBa4B"
      },
      "execution_count": null,
      "outputs": []
    },
    {
      "cell_type": "code",
      "source": [
        "import numpy as np\n",
        "import sklearn"
      ],
      "metadata": {
        "id": "0ZInzKHoCVW8"
      },
      "execution_count": 14,
      "outputs": []
    },
    {
      "cell_type": "code",
      "source": [
        "from sklearn.base import ClassifierMixin\n",
        "from sklearn.svm import SVC\n",
        "from sklearn.datasets import load_digits\n",
        "from sklearn.model_selection import train_test_split"
      ],
      "metadata": {
        "id": "wO_wQqkSEfi2"
      },
      "execution_count": 15,
      "outputs": []
    },
    {
      "cell_type": "code",
      "source": [
        "digits = load_digits()\n"
      ],
      "metadata": {
        "id": "TsJfOrWpE1Sx"
      },
      "execution_count": 16,
      "outputs": []
    },
    {
      "cell_type": "code",
      "source": [
        "def train_test() -> None:\n",
        "  digits\n",
        "  data = digits.images.reshape((len(digits.images),-1))\n",
        "  X_train,X_test,y_train,y_test = train_test_split(data,digits.target,test_size = 0.2,shuffle=False)\n",
        "  model = SVC(gamma = 0.001)\n",
        "  model.fit(X_train,y_train)\n",
        "  test_acc = model.score(X_test,y_test)\n",
        "  print(f\"Accuracy of the model: {test_acc}\")\n",
        "\n",
        "train_test()\n"
      ],
      "metadata": {
        "colab": {
          "base_uri": "https://localhost:8080/"
        },
        "id": "9q8qzwtsE35r",
        "outputId": "e5d2a61e-36a5-4a43-c706-5f8a0f75ca1c"
      },
      "execution_count": 17,
      "outputs": [
        {
          "output_type": "stream",
          "name": "stdout",
          "text": [
            "Accuracy of the model: 0.9583333333333334\n"
          ]
        }
      ]
    },
    {
      "cell_type": "code",
      "source": [
        "from zenml import step\n",
        "from typing_extensions import Annotated\n",
        "from typing import Tuple\n",
        "import pandas as pd\n",
        "\n",
        "\n",
        "@step\n",
        "def importer() -> Tuple[\n",
        "    Annotated[np.ndarray,'X_train'],\n",
        "    Annotated[np.ndarray,'X_test'],\n",
        "    Annotated[np.ndarray,'y_train'],\n",
        "    Annotated[np.ndarray,'y_test'],\n",
        "]:\n",
        "  digits = load_digits()\n",
        "  data = digits.images.reshape((len(digits.images),-1))\n",
        "  X_train,X_test,y_train,y_test = train_test_split(data,digits.target,test_size = 0.2,shuffle=False)\n",
        "\n",
        "  return X_train,X_test,y_train,y_test\n",
        "\n",
        "\n",
        "@step\n",
        "def SVC_trainer(X_train: np.ndarray,y_train: np.ndarray) -> ClassifierMixin:\n",
        "  model = SVC(gamma = 0.001)\n",
        "  model.fit(X_train,y_train)\n",
        "  return model\n",
        "\n",
        "\n",
        "@step\n",
        "def evaluator(X_test: np.ndarray,y_test:np.ndarray,model:ClassifierMixin) -> float :\n",
        "  test_acc = model.score(X_test,y_test)\n",
        "  print(f\"Accuracy of the model: {test_acc}\")\n",
        "  return test_acc\n",
        "\n",
        "\n"
      ],
      "metadata": {
        "id": "1U0alwffFxqL"
      },
      "execution_count": 18,
      "outputs": []
    },
    {
      "cell_type": "code",
      "source": [
        "from zenml import pipeline\n",
        "\n",
        "@pipeline\n",
        "def digits_pipeline():\n",
        "  \"Link all the functions to create a pipeline: \"\n",
        "  X_train,X_test,y_train,y_test = importer()\n",
        "  model = SVC_trainer(X_train=X_train,y_train=y_train)\n",
        "  evaluator(X_test=X_test,y_test=y_test,model=model)\n",
        ""
      ],
      "metadata": {
        "id": "PvlGth9KRZR9"
      },
      "execution_count": 19,
      "outputs": []
    },
    {
      "cell_type": "code",
      "source": [
        "digits_svc_pipeline = digits_pipeline()"
      ],
      "metadata": {
        "colab": {
          "base_uri": "https://localhost:8080/"
        },
        "id": "i9iV4xfeSF-c",
        "outputId": "e3df2c22-e2c3-435e-842d-6ada1d05a43e"
      },
      "execution_count": 20,
      "outputs": [
        {
          "output_type": "stream",
          "name": "stdout",
          "text": [
            "\u001b[1;35mInitiating a new run for the pipeline: \u001b[0m\u001b[1;36mdigits_pipeline\u001b[1;35m.\u001b[0m\n",
            "\u001b[1;35mRegistered new version: \u001b[0m\u001b[1;36m(version 1)\u001b[1;35m.\u001b[0m\n",
            "\u001b[1;35mExecuting a new run.\u001b[0m\n",
            "\u001b[1;35mUsing user: \u001b[0m\u001b[1;36mdefault\u001b[1;35m\u001b[0m\n",
            "\u001b[1;35mUsing stack: \u001b[0m\u001b[1;36mdefault\u001b[1;35m\u001b[0m\n",
            "\u001b[1;35m  orchestrator: \u001b[0m\u001b[1;36mdefault\u001b[1;35m\u001b[0m\n",
            "\u001b[1;35m  artifact_store: \u001b[0m\u001b[1;36mdefault\u001b[1;35m\u001b[0m\n",
            "\u001b[1;35mStep \u001b[0m\u001b[1;36mimporter\u001b[1;35m has started.\u001b[0m\n",
            "\u001b[1;35mStep \u001b[0m\u001b[1;36mimporter\u001b[1;35m has finished in \u001b[0m\u001b[1;36m2.434s\u001b[1;35m.\u001b[0m\n",
            "\u001b[1;35mStep \u001b[0m\u001b[1;36mSVC_trainer\u001b[1;35m has started.\u001b[0m\n",
            "\u001b[1;35mStep \u001b[0m\u001b[1;36mSVC_trainer\u001b[1;35m has finished in \u001b[0m\u001b[1;36m0.448s\u001b[1;35m.\u001b[0m\n",
            "\u001b[1;35mStep \u001b[0m\u001b[1;36mevaluator\u001b[1;35m has started.\u001b[0m\n",
            "Accuracy of the model: 0.9583333333333334\n",
            "\u001b[1;35mStep \u001b[0m\u001b[1;36mevaluator\u001b[1;35m has finished in \u001b[0m\u001b[1;36m0.408s\u001b[1;35m.\u001b[0m\n",
            "\u001b[1;35mPipeline run has finished in \u001b[0m\u001b[1;36m3.614s\u001b[1;35m.\u001b[0m\n",
            "\u001b[1;35mYou can visualize your pipeline runs in the \u001b[0m\u001b[1;36mZenML Dashboard\u001b[1;35m. In order to try it locally, please run \u001b[0m\u001b[1;36mzenml up\u001b[1;35m.\u001b[0m\n"
          ]
        }
      ]
    },
    {
      "cell_type": "code",
      "source": [
        "#TO RUN THIS AND GET THE VISUAL REPRESENTATION OF YOUR PIPELINE ON ZENML DASHBOARD VIA NGROK:\n",
        "from zenml.environment import Environment\n",
        "def start_zenml_dashboard(port = 8237):\n",
        "  if Environment.in_google_colab():\n",
        "    from pyngrok import ngrok\n",
        "\n",
        "    public_url = ngrok.connect(port)\n",
        "    print(f\"\\x1b[31mIn Colab, use this instead: {public_url}!\\x1b[0m\")\n",
        "    !zenml up --blocking --port {port}\n",
        "\n",
        "  else:\n",
        "    !zenml up --port {port}\n",
        "\n",
        "start_zenml_dashboard()"
      ],
      "metadata": {
        "colab": {
          "base_uri": "https://localhost:8080/"
        },
        "id": "rNbYs3rD5CLS",
        "outputId": "57565aea-8363-40d7-a2fa-a9e990cdeb97"
      },
      "execution_count": 24,
      "outputs": [
        {
          "output_type": "stream",
          "name": "stderr",
          "text": [
            "INFO:pyngrok.ngrok:Opening tunnel named: http-8237-ea5597cc-963b-4277-be38-21c177ad69e7\n"
          ]
        },
        {
          "output_type": "stream",
          "name": "stdout",
          "text": [
            "\u001b[1;35mOpening tunnel named: http-8237-ea5597cc-963b-4277-be38-21c177ad69e7\u001b[0m\n"
          ]
        },
        {
          "output_type": "stream",
          "name": "stderr",
          "text": [
            "INFO:pyngrok.process.ngrok:t=2024-01-30T19:58:04+0000 lvl=info msg=\"no configuration paths supplied\"\n"
          ]
        },
        {
          "output_type": "stream",
          "name": "stdout",
          "text": [
            "\u001b[1;35mt=2024-01-30T19:58:04+0000 lvl=info msg=\"no configuration paths supplied\"\u001b[0m\n"
          ]
        },
        {
          "output_type": "stream",
          "name": "stderr",
          "text": [
            "INFO:pyngrok.process.ngrok:t=2024-01-30T19:58:04+0000 lvl=info msg=\"using configuration at default config path\" path=/root/.config/ngrok/ngrok.yml\n"
          ]
        },
        {
          "output_type": "stream",
          "name": "stdout",
          "text": [
            "\u001b[1;35mt=2024-01-30T19:58:04+0000 lvl=info msg=\"using configuration at default config path\" path=/root/.config/ngrok/ngrok.yml\u001b[0m\n"
          ]
        },
        {
          "output_type": "stream",
          "name": "stderr",
          "text": [
            "INFO:pyngrok.process.ngrok:t=2024-01-30T19:58:04+0000 lvl=info msg=\"open config file\" path=/root/.config/ngrok/ngrok.yml err=nil\n"
          ]
        },
        {
          "output_type": "stream",
          "name": "stdout",
          "text": [
            "\u001b[1;35mt=2024-01-30T19:58:04+0000 lvl=info msg=\"open config file\" path=/root/.config/ngrok/ngrok.yml err=nil\u001b[0m\n"
          ]
        },
        {
          "output_type": "stream",
          "name": "stderr",
          "text": [
            "INFO:pyngrok.process.ngrok:t=2024-01-30T19:58:05+0000 lvl=info msg=\"starting web service\" obj=web addr=127.0.0.1:4040 allow_hosts=[]\n"
          ]
        },
        {
          "output_type": "stream",
          "name": "stdout",
          "text": [
            "\u001b[1;35mt=2024-01-30T19:58:05+0000 lvl=info msg=\"starting web service\" obj=web addr=127.0.0.1:4040 allow_hosts=[]\u001b[0m\n"
          ]
        },
        {
          "output_type": "stream",
          "name": "stderr",
          "text": [
            "INFO:pyngrok.process.ngrok:t=2024-01-30T19:58:05+0000 lvl=info msg=\"client session established\" obj=tunnels.session obj=csess id=25144a7a8bc6\n"
          ]
        },
        {
          "output_type": "stream",
          "name": "stdout",
          "text": [
            "\u001b[1;35mt=2024-01-30T19:58:05+0000 lvl=info msg=\"client session established\" obj=tunnels.session obj=csess id=25144a7a8bc6\u001b[0m\n"
          ]
        },
        {
          "output_type": "stream",
          "name": "stderr",
          "text": [
            "INFO:pyngrok.process.ngrok:t=2024-01-30T19:58:05+0000 lvl=info msg=\"tunnel session started\" obj=tunnels.session\n"
          ]
        },
        {
          "output_type": "stream",
          "name": "stdout",
          "text": [
            "\u001b[1;35mt=2024-01-30T19:58:05+0000 lvl=info msg=\"tunnel session started\" obj=tunnels.session\u001b[0m\n"
          ]
        },
        {
          "output_type": "stream",
          "name": "stderr",
          "text": [
            "INFO:pyngrok.process.ngrok:t=2024-01-30T19:58:05+0000 lvl=info msg=start pg=/api/tunnels id=87751e0b297ab47b\n"
          ]
        },
        {
          "output_type": "stream",
          "name": "stdout",
          "text": [
            "\u001b[1;35mt=2024-01-30T19:58:05+0000 lvl=info msg=start pg=/api/tunnels id=87751e0b297ab47b\u001b[0m\n"
          ]
        },
        {
          "output_type": "stream",
          "name": "stderr",
          "text": [
            "INFO:pyngrok.process.ngrok:t=2024-01-30T19:58:05+0000 lvl=info msg=end pg=/api/tunnels id=87751e0b297ab47b status=200 dur=450.465µs\n"
          ]
        },
        {
          "output_type": "stream",
          "name": "stdout",
          "text": [
            "\u001b[1;35mt=2024-01-30T19:58:05+0000 lvl=info msg=end pg=/api/tunnels id=87751e0b297ab47b status=200 dur=450.465µs\u001b[0m\n"
          ]
        },
        {
          "output_type": "stream",
          "name": "stderr",
          "text": [
            "INFO:pyngrok.process.ngrok:t=2024-01-30T19:58:05+0000 lvl=info msg=start pg=/api/tunnels id=72df945db8d2328c\n"
          ]
        },
        {
          "output_type": "stream",
          "name": "stdout",
          "text": [
            "\u001b[1;35mt=2024-01-30T19:58:05+0000 lvl=info msg=start pg=/api/tunnels id=72df945db8d2328c\u001b[0m\n"
          ]
        },
        {
          "output_type": "stream",
          "name": "stderr",
          "text": [
            "INFO:pyngrok.process.ngrok:t=2024-01-30T19:58:05+0000 lvl=info msg=end pg=/api/tunnels id=72df945db8d2328c status=200 dur=129.539µs\n"
          ]
        },
        {
          "output_type": "stream",
          "name": "stdout",
          "text": [
            "\u001b[1;35mt=2024-01-30T19:58:05+0000 lvl=info msg=end pg=/api/tunnels id=72df945db8d2328c status=200 dur=129.539µs\u001b[0m\n"
          ]
        },
        {
          "output_type": "stream",
          "name": "stderr",
          "text": [
            "INFO:pyngrok.process.ngrok:t=2024-01-30T19:58:05+0000 lvl=info msg=start pg=/api/tunnels id=fef9f72de11f3073\n"
          ]
        },
        {
          "output_type": "stream",
          "name": "stdout",
          "text": [
            "\u001b[1;35mt=2024-01-30T19:58:05+0000 lvl=info msg=start pg=/api/tunnels id=fef9f72de11f3073\u001b[0m\n"
          ]
        },
        {
          "output_type": "stream",
          "name": "stderr",
          "text": [
            "INFO:pyngrok.process.ngrok:t=2024-01-30T19:58:05+0000 lvl=info msg=\"started tunnel\" obj=tunnels name=http-8237-ea5597cc-963b-4277-be38-21c177ad69e7 addr=http://localhost:8237 url=https://9c5f-34-106-38-109.ngrok-free.app\n"
          ]
        },
        {
          "output_type": "stream",
          "name": "stdout",
          "text": [
            "\u001b[31mIn Colab, use this instead: NgrokTunnel: \"https://9c5f-34-106-38-109.ngrok-free.app\" -> \"http://localhost:8237\"!\u001b[0m\n",
            "\u001b[1;35mt=2024-01-30T19:58:05+0000 lvl=info msg=\"started tunnel\" obj=tunnels name=http-8237-ea5597cc-963b-4277-be38-21c177ad69e7 addr=http://localhost:8237 url=https://9c5f-34-106-38-109.ngrok-free.app\u001b[0m\n"
          ]
        },
        {
          "output_type": "stream",
          "name": "stderr",
          "text": [
            "INFO:pyngrok.process.ngrok:t=2024-01-30T19:58:05+0000 lvl=info msg=end pg=/api/tunnels id=fef9f72de11f3073 status=201 dur=60.929691ms\n"
          ]
        },
        {
          "output_type": "stream",
          "name": "stdout",
          "text": [
            "\u001b[1;35mt=2024-01-30T19:58:05+0000 lvl=info msg=end pg=/api/tunnels id=fef9f72de11f3073 status=201 dur=60.929691ms\u001b[0m\n",
            "\u001b[1;35mNumExpr defaulting to 2 threads.\u001b[0m\n",
            "\u001b[2;36mThe local ZenML dashboard is about to deploy in a blocking process. You can connect to it using the \u001b[0m\n",
            "\u001b[2;32m'default'\u001b[0m\u001b[2;36m username and an empty password.\u001b[0m\n",
            "\u001b[1;35mDeploying a local ZenML server with name 'local'.\u001b[0m\n",
            "\u001b[1;35mStarting ZenML Server as blocking process... press CTRL+C once to stop it.\u001b[0m\n",
            "\u001b[32mINFO\u001b[0m:     Started server process [\u001b[36m14630\u001b[0m]\n",
            "\u001b[32mINFO\u001b[0m:     Waiting for application startup.\n",
            "\u001b[32mINFO\u001b[0m:     Application startup complete.\n",
            "\u001b[32mINFO\u001b[0m:     Uvicorn running on \u001b[1mhttp://127.0.0.1:8237\u001b[0m (Press CTRL+C to quit)\n"
          ]
        },
        {
          "output_type": "stream",
          "name": "stderr",
          "text": [
            "INFO:pyngrok.process.ngrok:t=2024-01-30T19:58:18+0000 lvl=info msg=\"received stop request\" obj=app stopReq=\"{err:<nil> restart:false}\"\n"
          ]
        },
        {
          "output_type": "stream",
          "name": "stdout",
          "text": [
            "\u001b[1;35mt=2024-01-30T19:58:18+0000 lvl=info msg=\"received stop request\" obj=app stopReq=\"{err:<nil> restart:false}\"\u001b[0m\n"
          ]
        },
        {
          "output_type": "stream",
          "name": "stderr",
          "text": [
            "INFO:pyngrok.process.ngrok:t=2024-01-30T19:58:18+0000 lvl=info msg=\"session closing\" obj=tunnels.session err=nil\n"
          ]
        },
        {
          "output_type": "stream",
          "name": "stdout",
          "text": [
            "\u001b[1;35mt=2024-01-30T19:58:18+0000 lvl=info msg=\"session closing\" obj=tunnels.session err=nil\u001b[0m\n",
            "\u001b[32mINFO\u001b[0m:     Shutting down\n",
            "\u001b[32mINFO\u001b[0m:     Waiting for application shutdown.\n",
            "\u001b[32mINFO\u001b[0m:     Application shutdown complete.\n",
            "\u001b[32mINFO\u001b[0m:     Finished server process [\u001b[36m14630\u001b[0m]\n"
          ]
        }
      ]
    },
    {
      "cell_type": "code",
      "source": [],
      "metadata": {
        "id": "carhJ6ft7KSA"
      },
      "execution_count": null,
      "outputs": []
    }
  ]
}